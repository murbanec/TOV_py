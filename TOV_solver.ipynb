{
 "cells": [
  {
   "cell_type": "code",
   "execution_count": 2,
   "id": "55ee85a1",
   "metadata": {},
   "outputs": [],
   "source": [
    "from scipy import integrate as integ\n",
    "from scipy.interpolate import interp1d\n",
    "import numpy as np"
   ]
  },
  {
   "cell_type": "markdown",
   "id": "443316d9",
   "metadata": {},
   "source": [
    "### Load Equation of State\n",
    "\n",
    "open equation of state in directory eos, the filename in given example should be eos_APR.dat\n",
    "\n",
    "The eos file should contain three columns with corresponding values of \n",
    "\n",
    "energy density in  g.cm$^{-3}$ \n",
    "pressure in dyne.cm$^{-2}$\n",
    "baryon number density in cm$^{-3}$"
   ]
  },
  {
   "cell_type": "code",
   "execution_count": 3,
   "id": "1599258e",
   "metadata": {},
   "outputs": [],
   "source": [
    "eos = 'APR'\n",
    "filename=\"eos/eos_\"+eos+\".dat\"\n",
    "\n",
    "e,p,n=np.genfromtxt(filename, unpack=True,skip_header=0)\n",
    "eos_e_s = np.flip(e)\n",
    "eos_P_s = np.flip(p)\n",
    "eos_n_s = np.flip(n)"
   ]
  },
  {
   "cell_type": "markdown",
   "id": "c77613fe",
   "metadata": {},
   "source": [
    "### Optional load from compose\n",
    "\n",
    "This enables one to load EoS from compose database \n",
    "\n",
    "The content downloaded from compose (https://compose.obspm.fr/) should be unzipped in the directory eos_compose\n",
    "\n",
    "## Please \n",
    "\n",
    "\n",
    "\n",
    "Cite the database \n",
    "\n",
    "[S. Typel, M. Oertel, T. Klähn, Phys.Part.Nucl. 46, 633](https://link.springer.com/article/10.1134/S1063779615040061)\n",
    "\n",
    "[M. Oertel, M. Hempel, T. Klähn, S. Typel, Rev. Mod. Phys. 89, 015007](https://journals.aps.org/rmp/abstract/10.1103/RevModPhys.89.015007)\n",
    "\n",
    "[S. Typel, M. Oertel, T. Klähn et al, arxiv:2203.03209](https://arxiv.org/pdf/2203.03209.pdf)\n",
    "\n",
    "Cite original papers of the equations of state you selected.\n",
    "\n",
    "Check the manual (https://compose.obspm.fr/manual).\n",
    "\n"
   ]
  },
  {
   "cell_type": "code",
   "execution_count": 40,
   "id": "06e4f017",
   "metadata": {},
   "outputs": [
    {
     "name": "stdout",
     "output_type": "stream",
     "text": [
      "Table .thermo loaded \n",
      "Same length of tables\n",
      "[2.38069662e-05 4.80034888e-05 9.67924647e-05 1.95168757e-04\n",
      " 3.93531084e-04 7.93501566e-04 1.59998730e-03 3.22615539e-03\n",
      " 6.50510076e-03 1.31166453e-02 2.29863113e-02 3.85098418e-02\n",
      " 6.14647759e-02 6.56563375e-02 8.98022006e-02 1.20196563e-01\n",
      " 1.58076697e-01 2.05104879e-01 2.63554386e-01 2.74016146e-01\n",
      " 3.22264000e-01 3.78160517e-01 4.09418414e-01 4.30739487e-01\n",
      " 4.43250888e-01 5.18539347e-01 5.86879020e-01 6.85535854e-01\n",
      " 7.32078313e-01 7.91002763e-01 8.25245024e-01 8.91462284e-01\n",
      " 9.62991703e-01 1.02682631e+00 1.06741822e+00 1.15285116e+00\n",
      " 1.22771714e+00 1.27125026e+00 1.37297506e+00 1.47129887e+00\n",
      " 1.42558934e+00 1.49538485e+00 1.58988631e+00 1.63327571e+00\n",
      " 1.63512060e+00 1.70783254e+00 1.82378174e+00 1.87754742e+00\n",
      " 1.89396696e+00 1.89910566e+00 1.92633200e+00 1.96800086e+00\n",
      " 1.98892920e+00 2.00651688e+00 1.97783671e+00 1.06599406e+00\n",
      " 1.12898624e+00 1.23024954e+00 1.34958672e+00 1.47725140e+00\n",
      " 1.73965963e+00 1.99787399e+00 2.24751308e+00 2.49165548e+00\n",
      " 2.74141964e+00 3.16140569e+00 3.86080526e+00 4.30424829e+00\n",
      " 4.41340368e+00 9.47929292e+00 1.65400008e+01 4.30664172e+01\n",
      " 7.53662302e+01 1.11723024e+02 1.53957240e+02 2.05078177e+02\n",
      " 2.65264164e+02 3.32880520e+02 4.05073982e+02 4.79631653e+02\n",
      " 5.54454116e+02 6.28952136e+02 7.02615668e+02 7.75611611e+02]\n",
      "939.56533 938.272 1.0\n",
      "WARNING: Check if the EoS contains outer crust and not just inner crust.\n",
      "If necessary add low density equation of state (e.g. BPS, BBP )\n"
     ]
    }
   ],
   "source": [
    "filename=\"eos_compose/eos.nb\"\n",
    "\n",
    "n=np.genfromtxt(filename, unpack=True,skip_header=2)\n",
    "eos_n_c = n*1.e39\n",
    "\n",
    "\n",
    "filename=\"eos_compose/eos.thermo\"\n",
    "\n",
    "\n",
    "#see CompOSE manual 2.0 page 28 to understand symbols \n",
    "i_T,i_nb,i_Yq,Q1,Q2,Q3,Q4,Q5,Q6,Q7,Nadd=np.genfromtxt(filename, unpack=True,skip_header=1)\n",
    "\n",
    "if Nadd[0]==0:\n",
    "     print(\"Table .thermo loaded \")\n",
    "     if len(n)==len(i_nb):\n",
    "        print(\"Same length of tables\")\n",
    "     else:\n",
    "        print(\"Same length of tables\")\n",
    "        \n",
    "else:\n",
    "    print(\"more colums in the table\")\n",
    "\n",
    "\n",
    "\n",
    "#print(len(i_nb),len(n),i_nb[len(i_nb)-1])\n",
    "print(Q1)\n",
    "\n",
    "#First row contains mass of neutron, proton (in MeV) and whether leptons are considered\n",
    "mn,mp,lept=np.genfromtxt(filename, unpack=True,skip_footer=len(a1))\n",
    "\n",
    "print(mn,mp,lept)\n",
    "\n",
    "P=Q1*n #pressure in MeV/fm^3\n",
    "e=n*mn*(Q7+1) #energy density in MeV/fm^3\n",
    "\n",
    "\n",
    "MeV_2_erg=1.6021766339999e-6 #erg=dyne.cm\n",
    "\n",
    "c_2 = 29979245800.**2 #c^2 in cm/s\n",
    "\n",
    "eos_p_c=P*MeV_2_erg*1.e39\n",
    "#print(eos_p_c)\n",
    "\n",
    "eos_e_c=e*MeV_2_erg*1.e39/c_2\n",
    "#print(eos_e_c)\n",
    "\n",
    "if eos_p_c[0]>1.15:\n",
    "    print(\"WARNING: Check if the EoS contains outer crust and not just inner crust.\")\n",
    "    print(\"If necessary add low density equation of state (e.g. BPS, BBP )\")\n"
   ]
  },
  {
   "cell_type": "code",
   "execution_count": 41,
   "id": "cf49fcf7",
   "metadata": {},
   "outputs": [],
   "source": [
    "eos_e=eos_e_c\n",
    "eos_n=eos_n_c\n",
    "eos_P=eos_p_c"
   ]
  },
  {
   "cell_type": "markdown",
   "id": "51a2f2fa",
   "metadata": {},
   "source": [
    "### Define constants"
   ]
  },
  {
   "cell_type": "code",
   "execution_count": 42,
   "id": "2212555a",
   "metadata": {},
   "outputs": [],
   "source": [
    "G=6.6743e-8\n",
    "Msun=1.98847e+33"
   ]
  },
  {
   "cell_type": "code",
   "execution_count": 43,
   "id": "6a9de0ed",
   "metadata": {},
   "outputs": [],
   "source": [
    "def edens(Press, eos_P, eos_e):\n",
    "    en = np.interp(Press, eos_P, eos_e)\n",
    "    return en\n",
    "\n",
    "def tov(y, r, eos_P, eos_e):\n",
    "    P, m = y\n",
    "    e = edens(P, eos_P, eos_e)\n",
    "    dydr = [-G*(e + P/c_2)*(m + 4.0*np.pi*r**3*P/c_2)/(r*(r - 2.0*G*m/c_2)), 4.0*np.pi*r**2*e]\n",
    "    return dydr"
   ]
  },
  {
   "cell_type": "code",
   "execution_count": 44,
   "id": "d126c61e",
   "metadata": {},
   "outputs": [
    {
     "name": "stderr",
     "output_type": "stream",
     "text": [
      "/Users/martin/miniconda3/lib/python3.10/site-packages/scipy/integrate/_odepack_py.py:248: ODEintWarning: Excess work done on this call (perhaps wrong Dfun type). Run with full_output = 1 to get quantitative information.\n",
      "  warnings.warn(warning_msg, ODEintWarning)\n"
     ]
    },
    {
     "name": "stdout",
     "output_type": "stream",
     "text": [
      "Number of errors: 0\n",
      "287\n",
      "1.9245736001910239 9.570090426642508\n"
     ]
    }
   ],
   "source": [
    "Pc_max = eos_P[len(eos_P)-1]\n",
    "Pc_min = 2.e33\n",
    "Pc_ar = np.logspace(np.log10(Pc_min), np.log10(Pc_max), 300)\n",
    "#Pc_ar=[eos_P[len(eos_P)-1]]\n",
    "M_ar = np.zeros(len(Pc_ar))\n",
    "R_ar = np.zeros(len(Pc_ar))\n",
    "P_ar = np.zeros(len(Pc_ar))\n",
    "ec_ar = np.zeros(len(Pc_ar))\n",
    "Perr_ar=np.zeros(len(Pc_ar))\n",
    "errors = 0\n",
    "i=0\n",
    "for Pcen in Pc_ar:\n",
    "        ecen = np.interp(Pcen, eos_P, eos_e)\n",
    "        rpoints = 30000\n",
    "        r = np.linspace(10., 100.e5, rpoints+1)\n",
    "        y0 = [Pcen, 4.*np.pi*ecen*r[0]**3/3.]\n",
    "        sol=[np.zeros(rpoints),np.zeros(rpoints)]\n",
    "        sol = integ.odeint(tov, y0, r, args=(eos_P, eos_e))   #sol is 2D array of corresponding values of Y i.e. P and m(r)\n",
    "#        print(sol)\n",
    "        Msol = interp1d(sol[:, 0], sol[:, 1])\n",
    "        rsol = interp1d(sol[:, 0], r)\n",
    "        Mass = Msol(0.) / Msun\n",
    "        Rad = rsol(0.) / 1.e5\n",
    "        P_ar[i]=Pcen\n",
    "        ecen = edens(Pcen, eos_P, eos_e)\n",
    "        M_ar[i]=Mass\n",
    "        R_ar[i]=Rad\n",
    "        ec_ar[i]=ecen\n",
    "\n",
    "        if (sol[rpoints, 0] > 0.):            \n",
    "            errors += 1\n",
    "            Perr_ar[i]=1\n",
    "        i+=1\n",
    "    \n",
    "print(f\"Number of errors: {errors}\")\n",
    "imax=np.argmax(M_ar)\n",
    "print(imax)\n",
    "print(M_ar[imax],R_ar[imax])\n",
    "\n"
   ]
  },
  {
   "cell_type": "markdown",
   "id": "53b5a50e",
   "metadata": {},
   "source": [
    "### Plot results"
   ]
  },
  {
   "cell_type": "code",
   "execution_count": 45,
   "id": "e14ae294",
   "metadata": {},
   "outputs": [],
   "source": [
    "import matplotlib.pyplot as plt"
   ]
  },
  {
   "cell_type": "code",
   "execution_count": 46,
   "id": "3a828def",
   "metadata": {},
   "outputs": [
    {
     "data": {
      "text/plain": [
       "<matplotlib.legend.Legend at 0x12f6109d0>"
      ]
     },
     "execution_count": 46,
     "metadata": {},
     "output_type": "execute_result"
    },
    {
     "data": {
      "image/png": "[encoded data removed]",
      "text/plain": [
       "<Figure size 640x480 with 1 Axes>"
      ]
     },
     "metadata": {},
     "output_type": "display_data"
    }
   ],
   "source": [
    "plt.plot(R_ar, M_ar, 'b+',label=eos)\n",
    "plt.xlabel(r'$R$[km]')\n",
    "plt.ylabel(r'$M[M_\\odot]$')\n",
    "plt.grid()\n",
    "plt.legend()\n",
    "#plt.show()\n"
   ]
  },
  {
   "cell_type": "code",
   "execution_count": 47,
   "id": "72d6d187",
   "metadata": {},
   "outputs": [
    {
     "data": {
      "text/plain": [
       "<matplotlib.legend.Legend at 0x12f70dba0>"
      ]
     },
     "execution_count": 47,
     "metadata": {},
     "output_type": "execute_result"
    },
    {
     "data": {
      "image/png": "[encoded data removed]",
      "text/plain": [
       "<Figure size 640x480 with 1 Axes>"
      ]
     },
     "metadata": {},
     "output_type": "display_data"
    }
   ],
   "source": [
    "plt.plot(ec_ar/1.e15, M_ar, 'b+',label=eos)\n",
    "plt.xlabel(r'$\\rho$[10$^{15}$ g.cm$^{-3}$]')\n",
    "plt.ylabel(r'$M[M_\\odot]$')\n",
    "plt.grid()\n",
    "plt.legend()\n",
    "#plt.show()\n"
   ]
  },
  {
   "cell_type": "code",
   "execution_count": null,
   "id": "edd67a8d",
   "metadata": {
    "scrolled": true
   },
   "outputs": [],
   "source": []
  },
  {
   "cell_type": "code",
   "execution_count": null,
   "id": "ba1f1ee3",
   "metadata": {},
   "outputs": [],
   "source": []
  }
 ],
 "metadata": {
  "kernelspec": {
   "display_name": "Python 3 (ipykernel)",
   "language": "python",
   "name": "python3"
  },
  "language_info": {
   "codemirror_mode": {
    "name": "ipython",
    "version": 3
   },
   "file_extension": ".py",
   "mimetype": "text/x-python",
   "name": "python",
   "nbconvert_exporter": "python",
   "pygments_lexer": "ipython3",
   "version": "3.10.10"
  }
 },
 "nbformat": 4,
 "nbformat_minor": 5
}
